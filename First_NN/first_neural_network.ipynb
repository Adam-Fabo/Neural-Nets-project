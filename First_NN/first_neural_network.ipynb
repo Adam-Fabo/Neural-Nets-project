{
 "cells": [
  {
   "cell_type": "code",
   "execution_count": null,
   "metadata": {},
   "outputs": [],
   "source": [
    "# Created by: Adam Fabo\n",
    "# Date: 22.5.2022\n",
    "# Created at HMU Crete\n",
    "# Class: Neural Networks\n",
    "# File contains script to create first sample neural network (Chapter 3 in documentation)"
   ]
  },
  {
   "cell_type": "code",
   "execution_count": null,
   "metadata": {},
   "outputs": [],
   "source": [
    "import numpy as np\n",
    "import matplotlib.pyplot as plt\n",
    "import neurolab as nl\n",
    "import pandas as pd\n",
    "from sklearn import preprocessing\n",
    "from sklearn.model_selection import train_test_split\n",
    "    \n",
    "# change plot dimensions\n",
    "plt.rcParams['figure.figsize'] = [8,2]\n",
    "plt.rcParams['figure.dpi'] = 100"
   ]
  },
  {
   "cell_type": "code",
   "execution_count": null,
   "metadata": {},
   "outputs": [],
   "source": [
    "# load data\n",
    "data = pd.read_csv('data_banknote_auth_trimmed.txt', sep=\",\", header=None)\n",
    "\n",
    "# data description\n",
    "# 1. variance of Wavelet Transformed image (continuous)\n",
    "# 2. skewness of Wavelet Transformed image (continuous)\n",
    "# 3. curtosis of Wavelet Transformed image (continuous)\n",
    "# 4. entropy of image (continuous)\n",
    "# 5. class (integer)\n",
    "\n",
    "data.columns = [\"Variance\", \"Skewness\", \"Curtosis\", \"Entropy\", \"Class\"]\n",
    "\n",
    "data.head()\n",
    "\n"
   ]
  },
  {
   "cell_type": "code",
   "execution_count": null,
   "metadata": {},
   "outputs": [],
   "source": [
    "# get class as separate array\n",
    "target = data.copy()[\"Class\"]\n",
    "target = target.to_numpy()\n",
    "\n",
    "# two categories so 2 neurons, change 0 to [0,1] an 1 to [1,0]\n",
    "banknotes = {0: [0,1], 1: [1,0]}\n",
    "target = [ banknotes[number] for number in target]\n",
    "\n",
    "target = np.array(target)\n",
    "\n",
    "\n",
    "data = data.drop(columns = [\"Class\"])\n",
    "data = data.to_numpy()\n"
   ]
  },
  {
   "cell_type": "code",
   "execution_count": null,
   "metadata": {},
   "outputs": [],
   "source": [
    "# split the dataset\n",
    "\n",
    "X_train, X_test, y_train, y_test = train_test_split(data,target,test_size=0.3)\n",
    "\n",
    "# scale values to range (0,1)\n",
    "min_max_scaler = preprocessing.MinMaxScaler()\n",
    "\n",
    "X_train = min_max_scaler.fit_transform(X_train)\n",
    "X_test  = min_max_scaler.fit_transform(X_test)\n"
   ]
  },
  {
   "cell_type": "code",
   "execution_count": null,
   "metadata": {},
   "outputs": [],
   "source": [
    "# create NN with 4 neurons in hidden layer and 2 in output\n",
    "net = nl.net.newff(nl.tool.minmax(X_train),[4,2])\n",
    "\n",
    "net.layers[-1].transf = nl.trans.LogSig()\n",
    "net.layers[ 0].transf = nl.trans.LogSig()\n",
    "\n",
    "\n",
    "# set train function\n",
    "net.trainf = nl.train.train_rprop\n",
    "\n"
   ]
  },
  {
   "cell_type": "code",
   "execution_count": null,
   "metadata": {},
   "outputs": [],
   "source": [
    "# train the NN and get error\n",
    "error = net.train(X_train,y_train,epochs = 3000, show = 100, lr = 0.05, goal=1e-5)\n"
   ]
  },
  {
   "cell_type": "code",
   "execution_count": null,
   "metadata": {},
   "outputs": [],
   "source": [
    "plt.plot(error)\n",
    "plt.title(\"Error of NN during training\")\n",
    "plt.xlabel(\"Epoch Number\")\n",
    "plt.ylabel(\"Train Error\")\n",
    "plt.grid()\n",
    "#plt.savefig('images/First_NN_error.png',bbox_inches='tight')\n",
    "plt.show()"
   ]
  },
  {
   "cell_type": "code",
   "execution_count": null,
   "metadata": {},
   "outputs": [],
   "source": [
    "\n",
    "# simulate known set\n",
    "\n",
    "out = net.sim(X_train)\n",
    "out = np.around(out)\n",
    "\n",
    "# calculate accuracy\n",
    "\n",
    "correct = (out == y_train).all(axis = 1)\n",
    "acc = (np.sum(correct)/len(out))*100\n",
    "\n",
    "print(\"Accuracy of trained NN on known data is \" +str(round(acc,2)) + \"%\")\n"
   ]
  },
  {
   "cell_type": "code",
   "execution_count": null,
   "metadata": {},
   "outputs": [],
   "source": [
    "\n",
    "# simulate test set\n",
    "\n",
    "out = net.sim(X_test)\n",
    "out = np.around(out)\n",
    "\n",
    "# calculate accuracy\n",
    "\n",
    "correct = (out == y_test).all(axis = 1)\n",
    "acc = (np.sum(correct)/len(out))*100\n",
    "\n",
    "print(\"Accuracy of trained NN on unknow data is \" +str(round(acc,2)) + \"%\")\n"
   ]
  },
  {
   "cell_type": "code",
   "execution_count": null,
   "metadata": {},
   "outputs": [],
   "source": [
    "# reverse change output of NN [0,1] to 0 and [1,0] to 1\n",
    "# [0,0] and [1,1] are not valid outputs but poorly trained NN can output those     \n",
    "\n",
    "reverse_banknotes = {(0,1):0, (1,0):1, (0,0):2, (1,1):3}\n",
    "\n",
    "# reverse output\n",
    "out_reversed = [ reverse_banknotes[tuple(pair)] for pair in out]\n",
    "out_reversed = np.array(out_reversed)\n",
    "\n",
    "# reverse test set\n",
    "y_test_reversed = [ reverse_banknotes[tuple(pair)] for pair in y_test]\n",
    "y_test_reversed = np.array(y_test_reversed)"
   ]
  },
  {
   "cell_type": "code",
   "execution_count": null,
   "metadata": {},
   "outputs": [],
   "source": [
    "# plot test and output\n",
    "\n",
    "plt.plot(out_reversed,'r.')\n",
    "plt.title('Output of NN')\n",
    "plt.xlabel(\"Sample number\")\n",
    "plt.ylabel(\"Value\")\n",
    "plt.grid(True)\n",
    "plt.savefig('images/First_NN_output_pattern.png',bbox_inches='tight')\n",
    "plt.figure()\n",
    "\n",
    "\n",
    "plt.plot(y_test_reversed,'r.')\n",
    "plt.title('Expected output of NN')\n",
    "plt.xlabel(\"Sample number\")\n",
    "plt.ylabel(\"Value\")\n",
    "plt.grid(True)\n",
    "plt.savefig('images/First_NN_expected_pattern.png',bbox_inches='tight')\n",
    "plt.show()"
   ]
  },
  {
   "cell_type": "code",
   "execution_count": null,
   "metadata": {},
   "outputs": [],
   "source": [
    "# plot test and output only there where they differ \n",
    "\n",
    "# get boolean array of differences\n",
    "bool_arr = (out_reversed != y_test_reversed)\n",
    "\n",
    "# get indexes of differences\n",
    "indexes = np.where(bool_arr == True)\n",
    "\n",
    "# get values of differences\n",
    "out_diff_vals    = out_reversed[bool_arr]\n",
    "y_test_diff_vals = y_test_reversed[bool_arr]\n",
    "\n",
    "\n",
    "# plot ddifferences\n",
    "plt.plot(indexes[0],out_diff_vals,'ro',alpha = 0.5)\n",
    "plt.plot(indexes[0],y_test_diff_vals,'bo',alpha = 0.5)\n",
    "plt.title('Differences')\n",
    "plt.xlabel(\"Sample number\")\n",
    "plt.ylabel(\"Sample value\")\n",
    "plt.legend([\"Out\", \"Test\"])\n",
    "plt.grid(True)\n",
    "#plt.savefig('images/First_NN_pattern_diff.png',bbox_inches='tight')\n",
    "plt.show()"
   ]
  },
  {
   "cell_type": "code",
   "execution_count": null,
   "metadata": {},
   "outputs": [],
   "source": [
    "len(error)"
   ]
  },
  {
   "cell_type": "code",
   "execution_count": null,
   "metadata": {},
   "outputs": [],
   "source": [
    "error[-1]"
   ]
  },
  {
   "cell_type": "code",
   "execution_count": null,
   "metadata": {},
   "outputs": [],
   "source": [
    "len(y_test)"
   ]
  },
  {
   "cell_type": "code",
   "execution_count": null,
   "metadata": {},
   "outputs": [],
   "source": []
  }
 ],
 "metadata": {
  "kernelspec": {
   "display_name": "Python 3 (ipykernel)",
   "language": "python",
   "name": "python3"
  },
  "language_info": {
   "codemirror_mode": {
    "name": "ipython",
    "version": 3
   },
   "file_extension": ".py",
   "mimetype": "text/x-python",
   "name": "python",
   "nbconvert_exporter": "python",
   "pygments_lexer": "ipython3",
   "version": "3.9.6"
  }
 },
 "nbformat": 4,
 "nbformat_minor": 1
}
