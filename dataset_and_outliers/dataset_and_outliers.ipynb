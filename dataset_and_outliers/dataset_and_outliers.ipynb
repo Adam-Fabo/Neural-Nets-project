{
 "cells": [
  {
   "cell_type": "code",
   "execution_count": null,
   "metadata": {},
   "outputs": [],
   "source": [
    "# Created by: Adam Fabo\n",
    "# Date: 22.5.2022\n",
    "# Created at HMU Crete\n",
    "# Class: Neural Networks\n",
    "# File contains script to create load, plot data, remove outliers and show differences (Chapter 2 in documentation) "
   ]
  },
  {
   "cell_type": "code",
   "execution_count": null,
   "metadata": {},
   "outputs": [],
   "source": [
    "import numpy as np\n",
    "import matplotlib.pyplot as plt\n",
    "import neurolab as nl\n",
    "import pandas as pd\n",
    "from sklearn import preprocessing\n",
    "\n",
    "# change plot sizes\n",
    "plt.rcParams['figure.figsize'] = [8,2]\n",
    "plt.rcParams['figure.dpi'] = 100"
   ]
  },
  {
   "cell_type": "code",
   "execution_count": null,
   "metadata": {
    "scrolled": false
   },
   "outputs": [],
   "source": [
    "# load data\n",
    "data = pd.read_csv('data_banknote_authentication.txt', sep=\",\", header=None)\n",
    "\n",
    "# data description\n",
    "# 1. variance of Wavelet Transformed image (continuous)\n",
    "# 2. skewness of Wavelet Transformed image (continuous)\n",
    "# 3. curtosis of Wavelet Transformed image (continuous)\n",
    "# 4. entropy of image (continuous)\n",
    "# 5. class (integer)\n",
    "\n",
    "data.columns = [\"Variance\", \"Skewness\", \"Curtosis\", \"Entropy\", \"Class\"]\n",
    "\n",
    "data.head()\n",
    "\n"
   ]
  },
  {
   "cell_type": "code",
   "execution_count": null,
   "metadata": {},
   "outputs": [],
   "source": [
    "# visualise the data\n",
    "\n",
    "# different colors for different graphs\n",
    "colors = [\"b\",\"g\", \"r\",\"c\",\"m\"]\n",
    "counter = 0\n",
    "\n",
    "\n",
    "\n",
    "# show data as graph and their histogram\n",
    "for col in data.columns:\n",
    "    np_arr = data[col].to_numpy()\n",
    "    \n",
    "    fig, (ax1, ax2) = plt.subplots(1, 2)\n",
    "    fig.tight_layout()\n",
    "    \n",
    "    # dotted graph\n",
    "    ax1.set_title(\"Graph of \" + col)\n",
    "    ax1.set_xlabel(\"Sample number\")\n",
    "    ax1.set_ylabel(\"Sample value\")\n",
    "    \n",
    "    ax1.plot(np_arr, \".\", alpha=0.5, color=colors[counter])\n",
    "    \n",
    "    \n",
    "    # histogram\n",
    "    ax2.set_title(\"Histogram of \" + col)\n",
    "    ax2.set_xlabel(\"Values\")\n",
    "    ax2.set_ylabel(\"Frequency\")\n",
    "    \n",
    "    ax2.hist(np_arr, bins = 20, alpha=0.5, histtype='bar', ec='black',color= colors[counter])\n",
    "    \n",
    "    counter += 1\n",
    "    \n",
    "    # plt.savefig('images/' +  col +'.png',bbox_inches='tight')\n",
    "\n",
    "# since there are only 2 classes to which can banknote belong, differences between classes can be seen on a first sight \n",
    "# mainly at variance and skewness\n",
    "\n",
    "plt.show()"
   ]
  },
  {
   "cell_type": "code",
   "execution_count": null,
   "metadata": {
    "scrolled": true
   },
   "outputs": [],
   "source": [
    "# detection of outliers using z-score of standardt deviation\n",
    "\n",
    "# https://www.youtube.com/watch?v=rzR_cKnkD18&ab_channel=KrishNaik\n",
    "# https://github.com/krishnaik06/Finding-an-Outlier\n",
    "# https://en.wikipedia.org/wiki/Standard_score\n",
    "\n",
    "# detects outliers in dataset and returns indexes of the rows of outliers\n",
    "def detect_outliers(dataset):\n",
    "    \n",
    "    outliers = []\n",
    "    indexes  = []\n",
    "    index_counter  = 0\n",
    "\n",
    "    threshold = 3\n",
    "    mean = np.mean(dataset)  # get mean\n",
    "    std  = np.std(dataset)   # get standard deviaton\n",
    "    \n",
    "    \n",
    "    for value in dataset:\n",
    "        z_score= (value - mean) / std \n",
    "        \n",
    "        if np.abs(z_score) > threshold:\n",
    "            outliers.append(value)\n",
    "            indexes.append(index_counter)\n",
    "        index_counter += 1\n",
    "            \n",
    "    # return outliers, indexes\n",
    "    return indexes\n",
    "    "
   ]
  },
  {
   "cell_type": "code",
   "execution_count": null,
   "metadata": {},
   "outputs": [],
   "source": [
    "# finds and removes outliers from dataset\n",
    "# run this only once\n",
    "\n",
    "outlier_indexes = []\n",
    "\n",
    "# take columns without class\n",
    "for col in data.columns[:-1]:\n",
    "    \n",
    "    arr = data[col].to_numpy()\n",
    "    \n",
    "    outlier_indexes += detect_outliers(arr)\n",
    "\n",
    "# get rid of duplicates if there are any\n",
    "outlier_indexes = list(set(outlier_indexes))\n",
    "print(\"dropping \" + str(len(outlier_indexes)) + \" rows, which is \" + str(round(len(outlier_indexes) /len(data.index) *100,2))  + \"% of original table\")\n",
    "\n",
    "data_wo_outliers = data.drop(outlier_indexes)"
   ]
  },
  {
   "cell_type": "code",
   "execution_count": null,
   "metadata": {},
   "outputs": [],
   "source": [
    "# histograms before and after removing outliers\n",
    "\n",
    "# different colors for different graphs\n",
    "colors = [\"b\",\"g\", \"r\",\"c\",\"m\"]\n",
    "colors_old = [\"whitesmoke\",\"whitesmoke\",\"whitesmoke\", \"whitesmoke\",\"whitesmoke\"]\n",
    "counter = 0\n",
    "\n",
    "#todo troska kultury\n",
    "\n",
    "# show data as graph and their histogram\n",
    "for col in data.columns:\n",
    "    new = data_wo_outliers[col].to_numpy()\n",
    "\n",
    "    old = data[col].to_numpy()\n",
    "    \n",
    "    plt.title(\"Histogram of \" + col)\n",
    "    plt.xlabel(\"Values\")\n",
    "    plt.ylabel(\"Frequency\")\n",
    "    \n",
    "    plt.hist([new,old], bins = 20, alpha=0.75, histtype='bar', ec='black',color= [colors[counter],colors_old[counter]])\n",
    "    plt.legend([\"new\",\"old\"])\n",
    " \n",
    "    \n",
    "    #plt.savefig('images/histogram_of_' +  col +'.png',bbox_inches='tight')\n",
    "    plt.figure()\n",
    "    \n",
    "    counter += 1\n",
    "\n",
    "plt.show()"
   ]
  },
  {
   "cell_type": "code",
   "execution_count": null,
   "metadata": {},
   "outputs": [],
   "source": [
    "# better at python script than jupyter notebook \n",
    "fig = plt.figure()\n",
    "ax = fig.add_subplot(projection='3d')\n",
    "\n",
    "ax.scatter(data[\"Variance\"].to_numpy(), data[\"Skewness\"].to_numpy(), data[\"Curtosis\"].to_numpy(), c = data[\"Class\"].to_numpy())\n",
    "\n",
    "ax.set_xlabel('X Label')\n",
    "ax.set_ylabel('Y Label')\n",
    "ax.set_zlabel('Z Label')\n",
    "\n",
    "plt.show()"
   ]
  },
  {
   "cell_type": "code",
   "execution_count": null,
   "metadata": {},
   "outputs": [],
   "source": []
  }
 ],
 "metadata": {
  "kernelspec": {
   "display_name": "Python 3 (ipykernel)",
   "language": "python",
   "name": "python3"
  },
  "language_info": {
   "codemirror_mode": {
    "name": "ipython",
    "version": 3
   },
   "file_extension": ".py",
   "mimetype": "text/x-python",
   "name": "python",
   "nbconvert_exporter": "python",
   "pygments_lexer": "ipython3",
   "version": "3.9.6"
  }
 },
 "nbformat": 4,
 "nbformat_minor": 1
}
