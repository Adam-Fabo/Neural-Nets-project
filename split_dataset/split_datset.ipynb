{
 "cells": [
  {
   "cell_type": "code",
   "execution_count": null,
   "metadata": {},
   "outputs": [],
   "source": [
    "# Created by: Adam Fabo\n",
    "# Date: 22.5.2022\n",
    "# Created at HMU Crete\n",
    "# Class: Neural Networks\n",
    "# File contains script train neural network on differently split datasets (Chapter 7 in documentation) \n",
    " "
   ]
  },
  {
   "cell_type": "code",
   "execution_count": null,
   "metadata": {},
   "outputs": [],
   "source": [
    "import numpy as np\n",
    "import matplotlib.pyplot as plt\n",
    "import neurolab as nl\n",
    "import pandas as pd\n",
    "import time\n",
    "import os\n",
    "from sklearn import preprocessing\n",
    "from sklearn.model_selection import train_test_split\n",
    "\n"
   ]
  },
  {
   "cell_type": "code",
   "execution_count": null,
   "metadata": {},
   "outputs": [],
   "source": [
    "# load data\n",
    "data = pd.read_csv('data_banknote_auth_trimmed.txt', sep=\",\", header=None)\n",
    "\n",
    "# data description\n",
    "# 1. variance of Wavelet Transformed image (continuous)\n",
    "# 2. skewness of Wavelet Transformed image (continuous)\n",
    "# 3. curtosis of Wavelet Transformed image (continuous)\n",
    "# 4. entropy of image (continuous)\n",
    "# 5. class (integer)\n",
    "\n",
    "data.columns = [\"Variance\", \"Skewness\", \"Curtosis\", \"Entropy\", \"Class\"]\n",
    "\n",
    "data.head()"
   ]
  },
  {
   "cell_type": "code",
   "execution_count": null,
   "metadata": {},
   "outputs": [],
   "source": [
    "# get class as separate array\n",
    "target = data.copy()[\"Class\"]\n",
    "target = target.to_numpy()\n",
    "\n",
    "# two categories so 2 neurons, change 0 to [0,1] an 1 to [1,0]\n",
    "banknotes = {0: [0,1], 1: [1,0]}\n",
    "target = [ banknotes[number] for number in target]\n",
    "\n",
    "target = np.array(target)\n",
    "\n",
    "\n",
    "data = data.drop(columns = [\"Class\"])\n",
    "data = data.to_numpy()\n"
   ]
  },
  {
   "cell_type": "code",
   "execution_count": null,
   "metadata": {},
   "outputs": [],
   "source": [
    "for training_size in range(1,99):\n",
    "    for round_num in range(10):\n",
    "        print( f\"Dataset is split {(training_size/100)}%, Round: {round_num}\" )\n",
    "        \n",
    "         # split the dataset\n",
    "        X_train, X_test, y_train, y_test = train_test_split(data,target,test_size=(1-(training_size/100)))\n",
    "\n",
    "        # scale values to range (0,1)\n",
    "        min_max_scaler = preprocessing.MinMaxScaler()\n",
    "        X_train = min_max_scaler.fit_transform(X_train)\n",
    "        X_test  = min_max_scaler.fit_transform(X_test)\n",
    "        \n",
    "        \n",
    "        # create NN with \n",
    "        net = nl.net.newff(nl.tool.minmax(X_train),[6,2])\n",
    "        net.layers[-1].transf = nl.trans.LogSig()\n",
    "        net.layers[ 0].transf = nl.trans.LogSig()\n",
    "        \n",
    "        # set train function\n",
    "        net.trainf = nl.train.train_rprop\n",
    "\n",
    "        train_time = 0\n",
    "\n",
    "\n",
    "        #train for 3000 epochs\n",
    "        start_time = time.time()\n",
    "        error = net.train(X_train,y_train,epochs = 3000, show = 100, lr = 0.05, goal=1e-5)\n",
    "        train_time += time.time() - start_time\n",
    "        \n",
    "        # test training data\n",
    "        out = net.sim(X_train)\n",
    "        out = np.around(out)\n",
    "        correct = (out == y_train).all(axis = 1)\n",
    "        accuracy_training = (np.sum(correct)/len(out))*100\n",
    "\n",
    "\n",
    "        # test test data\n",
    "        out = net.sim(X_test)\n",
    "        out = np.around(out)\n",
    "        correct = (out == y_test).all(axis = 1)\n",
    "        accuracy_test = (np.sum(correct)/len(out))*100\n",
    "        \n",
    "        \n",
    "\n",
    "\n",
    "        df = pd.DataFrame([[round_num,training_size,accuracy_training,accuracy_test,train_time,len(error)]],\n",
    "                          columns = [\"Round\",\"Training size\",\"Accuracy on training\",\"Accuracy on test\",\"Training time\", \"Training epochs\"])\n",
    "\n",
    "        filename = f\"data/training_size_{training_size}.csv\"\n",
    "\n",
    "        # if file exists, only append\n",
    "        if os.path.isfile(filename):\n",
    "            df.to_csv(filename,mode=\"a\",header=False)\n",
    "        else:\n",
    "            df.to_csv(filename)\n",
    "\n",
    "            \n",
    "        "
   ]
  },
  {
   "cell_type": "code",
   "execution_count": null,
   "metadata": {},
   "outputs": [],
   "source": []
  }
 ],
 "metadata": {
  "kernelspec": {
   "display_name": "Python 3 (ipykernel)",
   "language": "python",
   "name": "python3"
  },
  "language_info": {
   "codemirror_mode": {
    "name": "ipython",
    "version": 3
   },
   "file_extension": ".py",
   "mimetype": "text/x-python",
   "name": "python",
   "nbconvert_exporter": "python",
   "pygments_lexer": "ipython3",
   "version": "3.9.6"
  }
 },
 "nbformat": 4,
 "nbformat_minor": 1
}
