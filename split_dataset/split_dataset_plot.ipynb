{
 "cells": [
  {
   "cell_type": "code",
   "execution_count": null,
   "metadata": {},
   "outputs": [],
   "source": [
    "# Created by: Adam Fabo\n",
    "# Date: 22.5.2022\n",
    "# Created at HMU Crete\n",
    "# Class: Neural Networks\n",
    "# File contains script to plot results of the test with differently split dataset (Chapter 7 in documentation) \n",
    " "
   ]
  },
  {
   "cell_type": "code",
   "execution_count": null,
   "metadata": {
    "pycharm": {
     "is_executing": true
    }
   },
   "outputs": [],
   "source": [
    "import numpy as np\n",
    "import matplotlib.pyplot as plt\n",
    "import neurolab as nl\n",
    "import pandas as pd\n",
    "import time\n",
    "from sklearn import preprocessing\n",
    "from sklearn.model_selection import train_test_split\n",
    "from matplotlib import cm\n",
    "plt.rcParams['figure.figsize'] = [8,3]\n",
    "plt.rcParams['figure.dpi'] = 100"
   ]
  },
  {
   "cell_type": "code",
   "execution_count": null,
   "metadata": {},
   "outputs": [],
   "source": [
    "# create empty dataframe\n",
    "data = pd.DataFrame()"
   ]
  },
  {
   "cell_type": "code",
   "execution_count": null,
   "metadata": {},
   "outputs": [],
   "source": [
    "\n",
    "for i in range(1,99):\n",
    "    d =  pd.read_csv(f\"data/training_size_{i}.csv\")\n",
    "    data = pd.concat([data,d])\n",
    "        \n",
    "data"
   ]
  },
  {
   "cell_type": "code",
   "execution_count": null,
   "metadata": {},
   "outputs": [],
   "source": [
    "data.iloc[100]"
   ]
  },
  {
   "cell_type": "code",
   "execution_count": null,
   "metadata": {},
   "outputs": [],
   "source": [
    "aa = data[data[\"Training size\"] == 1]\n",
    "aa\n",
    "# for i in range(1,99)\n",
    "#     for j in range(10)"
   ]
  },
  {
   "cell_type": "code",
   "execution_count": null,
   "metadata": {},
   "outputs": [],
   "source": [
    "accuracies = []\n",
    "\n",
    "for i in range(1,99):\n",
    "    one_training = data[data[\"Training size\"] == i]\n",
    "    accuracies.append(one_training['Accuracy on test'].to_numpy().mean())\n"
   ]
  },
  {
   "cell_type": "code",
   "execution_count": null,
   "metadata": {},
   "outputs": [],
   "source": [
    "plt.plot(accuracies,color='tab:orange')\n",
    "plt.xlabel('Training size in %')\n",
    "plt.ylabel('Accuracy in %')\n",
    "plt.title('Accuracy on test set')\n",
    "plt.grid()\n",
    "#plt.legend([\"Accuracy\"])\n",
    "plt.xticks([0,20,40,60,80,100],[1,20,40,60,80,100])\n",
    "#plt.xticks(np.arange(0, 100, step=20),np.arange(1, 101, step=20))\n",
    "#plt.ylim([50, 100])\n",
    "plt.savefig('images/split_dataset_accuracy.png',bbox_inches='tight')\n",
    "\n",
    "plt.show()"
   ]
  },
  {
   "cell_type": "code",
   "execution_count": null,
   "metadata": {},
   "outputs": [],
   "source": [
    "times = []\n",
    "\n",
    "for i in range(1,99):\n",
    "    one_training = data[data[\"Training size\"] == i]\n",
    "    times.append(one_training['Training time'].to_numpy().mean())\n"
   ]
  },
  {
   "cell_type": "code",
   "execution_count": null,
   "metadata": {},
   "outputs": [],
   "source": [
    "plt.plot(times,color='tab:orange')\n",
    "plt.xlabel('Training size in %')\n",
    "plt.ylabel('Seconds')\n",
    "plt.title('Training time in seconds')\n",
    "plt.grid()\n",
    "#plt.legend([\"Time\"])\n",
    "plt.xticks([0,20,40,60,80,100],[1,20,40,60,80,100])\n",
    "#plt.ylim([50, 100])\n",
    "plt.savefig('split_dataset_train_time_sec.png',bbox_inches='tight')\n",
    "plt.show()"
   ]
  },
  {
   "cell_type": "code",
   "execution_count": null,
   "metadata": {},
   "outputs": [],
   "source": [
    "epochs = []\n",
    "\n",
    "for i in range(1,99):\n",
    "    one_training = data[data[\"Training size\"] == i]\n",
    "    epochs.append(one_training['Training epochs'].to_numpy().mean())\n"
   ]
  },
  {
   "cell_type": "code",
   "execution_count": null,
   "metadata": {},
   "outputs": [],
   "source": [
    "plt.plot(epochs,color='tab:orange')\n",
    "plt.xlabel('Training size in %')\n",
    "plt.ylabel('Epcohs')\n",
    "plt.title('Training in epochs')\n",
    "plt.grid()\n",
    "plt.xticks([0,20,40,60,80,100],[1,20,40,60,80,100])\n",
    "#plt.xticks(np.arange(0, 100, step=20),np.arange(1, 101, step=20))\n",
    "#plt.ylim([50, 100])\n",
    "plt.savefig('split_dataset_train_time_epochs.png',bbox_inches='tight')\n",
    "plt.show()"
   ]
  },
  {
   "cell_type": "code",
   "execution_count": null,
   "metadata": {},
   "outputs": [],
   "source": [
    "plt.plot(times)\n",
    "plt.plot(accuracies)\n",
    "plt.show()"
   ]
  },
  {
   "cell_type": "code",
   "execution_count": null,
   "metadata": {},
   "outputs": [],
   "source": []
  }
 ],
 "metadata": {
  "kernelspec": {
   "display_name": "Python 3 (ipykernel)",
   "language": "python",
   "name": "python3"
  },
  "language_info": {
   "codemirror_mode": {
    "name": "ipython",
    "version": 3
   },
   "file_extension": ".py",
   "mimetype": "text/x-python",
   "name": "python",
   "nbconvert_exporter": "python",
   "pygments_lexer": "ipython3",
   "version": "3.9.6"
  }
 },
 "nbformat": 4,
 "nbformat_minor": 1
}
