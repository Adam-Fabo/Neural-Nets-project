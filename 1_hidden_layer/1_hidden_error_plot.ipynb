{
 "cells": [
  {
   "cell_type": "code",
   "execution_count": null,
   "metadata": {},
   "outputs": [],
   "source": [
    "# Created by: Adam Fabo\n",
    "# Date: 22.5.2022\n",
    "# Created at HMU Crete\n",
    "# Class: Neural Networks\n",
    "# File contains script to train neural net and shows that error behaves simmilary for different num of epochs (Chapter 5 in documentation) \n"
   ]
  },
  {
   "cell_type": "code",
   "execution_count": null,
   "metadata": {},
   "outputs": [],
   "source": [
    "import numpy as np\n",
    "import matplotlib.pyplot as plt\n",
    "import neurolab as nl\n",
    "import pandas as pd\n",
    "from sklearn import preprocessing\n",
    "from sklearn.model_selection import train_test_split\n",
    "    \n",
    "# change plot dimensions\n",
    "plt.rcParams['figure.figsize'] = [8,2]\n",
    "plt.rcParams['figure.dpi'] = 100"
   ]
  },
  {
   "cell_type": "code",
   "execution_count": null,
   "metadata": {},
   "outputs": [],
   "source": [
    "# load data\n",
    "data = pd.read_csv('data_banknote_auth_trimmed.txt', sep=\",\", header=None)\n",
    "\n",
    "# data description\n",
    "# 1. variance of Wavelet Transformed image (continuous)\n",
    "# 2. skewness of Wavelet Transformed image (continuous)\n",
    "# 3. curtosis of Wavelet Transformed image (continuous)\n",
    "# 4. entropy of image (continuous)\n",
    "# 5. class (integer)\n",
    "\n",
    "data.columns = [\"Variance\", \"Skewness\", \"Curtosis\", \"Entropy\", \"Class\"]\n",
    "\n",
    "data.head()\n",
    "\n"
   ]
  },
  {
   "cell_type": "code",
   "execution_count": null,
   "metadata": {},
   "outputs": [],
   "source": [
    "# get class as separate array\n",
    "target = data.copy()[\"Class\"]\n",
    "target = target.to_numpy()\n",
    "\n",
    "# two categories so 2 neurons, change 0 to [0,1] an 1 to [1,0]\n",
    "banknotes = {0: [0,1], 1: [1,0]}\n",
    "target = [ banknotes[number] for number in target]\n",
    "\n",
    "target = np.array(target)\n",
    "\n",
    "\n",
    "data = data.drop(columns = [\"Class\"])\n",
    "data = data.to_numpy()\n"
   ]
  },
  {
   "cell_type": "code",
   "execution_count": null,
   "metadata": {},
   "outputs": [],
   "source": [
    "# split the dataset\n",
    "\n",
    "X_train, X_test, y_train, y_test = train_test_split(data,target,test_size=0.3)\n",
    "\n",
    "# scale values to range (0,1)\n",
    "min_max_scaler = preprocessing.MinMaxScaler()\n",
    "\n",
    "X_train = min_max_scaler.fit_transform(X_train)\n",
    "X_test  = min_max_scaler.fit_transform(X_test)\n"
   ]
  },
  {
   "cell_type": "code",
   "execution_count": null,
   "metadata": {},
   "outputs": [],
   "source": [
    "e = []\n",
    "epochs = [500,1000,1500]\n",
    "for i in range(3):\n",
    "    # create NN with 4 neurons in hidden layer and 2 in output\n",
    "    net = nl.net.newff(nl.tool.minmax(X_train),[2,2])\n",
    "\n",
    "    net.layers[-1].transf = nl.trans.LogSig()\n",
    "    net.layers[ 0].transf = nl.trans.LogSig()\n",
    "\n",
    "\n",
    "    # set train function\n",
    "    net.trainf = nl.train.train_rprop\n",
    "\n",
    "    # train the NN and get error\n",
    "    error = net.train(X_train,y_train,epochs = epochs[i], show = 100, lr = 0.05, goal=1e-5)\n",
    "    e.append(error)\n"
   ]
  },
  {
   "cell_type": "code",
   "execution_count": null,
   "metadata": {},
   "outputs": [],
   "source": [
    "\n",
    "plt.plot(e[2])\n",
    "plt.plot(e[1])\n",
    "plt.plot(e[0]) \n",
    "plt.title(\"Error of NN during training, 2 neurons in hidden layer\")\n",
    "plt.xlabel(\"Epoch Number\")\n",
    "plt.ylabel(\"Train Error\")\n",
    "plt.grid()\n",
    "plt.legend([\"1500 epochs\",\"1000 epochs\",\"500 epochs\"])\n",
    "#plt.savefig('images/one_hid_err_2neuro.png',bbox_inches='tight')\n",
    "plt.show()"
   ]
  },
  {
   "cell_type": "code",
   "execution_count": null,
   "metadata": {},
   "outputs": [],
   "source": []
  }
 ],
 "metadata": {
  "kernelspec": {
   "display_name": "Python 3 (ipykernel)",
   "language": "python",
   "name": "python3"
  },
  "language_info": {
   "codemirror_mode": {
    "name": "ipython",
    "version": 3
   },
   "file_extension": ".py",
   "mimetype": "text/x-python",
   "name": "python",
   "nbconvert_exporter": "python",
   "pygments_lexer": "ipython3",
   "version": "3.9.6"
  }
 },
 "nbformat": 4,
 "nbformat_minor": 1
}
