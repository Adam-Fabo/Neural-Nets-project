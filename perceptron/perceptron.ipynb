{
 "cells": [
  {
   "cell_type": "code",
   "execution_count": null,
   "metadata": {},
   "outputs": [],
   "source": [
    "# Created by: Adam Fabo\n",
    "# Date: 22.5.2022\n",
    "# Created at HMU Crete\n",
    "# Class: Neural Networks\n",
    "# File contains script to create neural network as perceptron and plot results (Chapter 4 in documentation) "
   ]
  },
  {
   "cell_type": "code",
   "execution_count": null,
   "metadata": {
    "pycharm": {
     "is_executing": true
    }
   },
   "outputs": [],
   "source": [
    "import numpy as np\n",
    "import matplotlib.pyplot as plt\n",
    "import neurolab as nl\n",
    "import pandas as pd\n",
    "from sklearn import preprocessing\n",
    "from sklearn.model_selection import train_test_split\n"
   ]
  },
  {
   "cell_type": "code",
   "execution_count": null,
   "metadata": {},
   "outputs": [],
   "source": [
    "# load data\n",
    "data = pd.read_csv('data_banknote_auth_trimmed.txt', sep=\",\", header=None)\n",
    "\n",
    "# data description\n",
    "# 1. variance of Wavelet Transformed image (continuous)\n",
    "# 2. skewness of Wavelet Transformed image (continuous)\n",
    "# 3. curtosis of Wavelet Transformed image (continuous)\n",
    "# 4. entropy of image (continuous)\n",
    "# 5. class (integer)\n",
    "\n",
    "data.columns = [\"Variance\", \"Skewness\", \"Curtosis\", \"Entropy\", \"Class\"]\n",
    "\n",
    "data.head()\n"
   ]
  },
  {
   "cell_type": "code",
   "execution_count": null,
   "metadata": {},
   "outputs": [],
   "source": [
    "# get class as separate array\n",
    "target = data.copy()[\"Class\"]\n",
    "target = target.to_numpy()\n",
    "\n",
    "## two categories so 2 neurons, change 0 to [0,1] an 1 to [1,0]\n",
    "# banknotes = {0: [0,1], 1: [1,0]}\n",
    "# target = [ banknotes[number] for number in target]\n",
    "\n",
    "target = np.array(target)\n",
    "\n",
    "\n",
    "data = data.drop(columns = [\"Class\"])\n",
    "data = data.drop(columns = [\"Entropy\"])\n",
    "data = data.to_numpy()\n"
   ]
  },
  {
   "cell_type": "code",
   "execution_count": null,
   "metadata": {},
   "outputs": [],
   "source": [
    "# split the dataset\n",
    "\n",
    "X_train, X_test, y_train, y_test = train_test_split(data,target,test_size=0.3)\n",
    "\n",
    "# scale values to range (0,1)\n",
    "min_max_scaler = preprocessing.MinMaxScaler()\n",
    "\n",
    "X_train = min_max_scaler.fit_transform(X_train)\n",
    "X_test  = min_max_scaler.fit_transform(X_test)\n",
    "\n",
    "y_train = [[val] for val in y_train]\n",
    "y_train = np.array(y_train)\n",
    "\n",
    "y_test = [[val] for val in y_test]\n",
    "y_test = np.array(y_test)\n"
   ]
  },
  {
   "cell_type": "code",
   "execution_count": null,
   "metadata": {},
   "outputs": [],
   "source": [
    "net = nl.net.newp(nl.tool.minmax(X_train),1)\n"
   ]
  },
  {
   "cell_type": "code",
   "execution_count": null,
   "metadata": {},
   "outputs": [],
   "source": [
    "# train the NN and get error\n",
    "error = net.train(X_train,y_train,epochs = 500, show = 100, lr = 0.05)"
   ]
  },
  {
   "cell_type": "code",
   "execution_count": null,
   "metadata": {},
   "outputs": [],
   "source": [
    "plt.plot(error)\n",
    "plt.title(\"Error of perceptron during training\")\n",
    "plt.xlabel(\"Epoch Number\")\n",
    "plt.ylabel(\"Train Error\")\n",
    "plt.grid()\n",
    "#plt.savefig('images/perceptron_error_no_entropy.png',bbox_inches='tight')\n",
    "plt.show()"
   ]
  },
  {
   "cell_type": "code",
   "execution_count": null,
   "metadata": {},
   "outputs": [],
   "source": []
  },
  {
   "cell_type": "code",
   "execution_count": null,
   "metadata": {},
   "outputs": [],
   "source": [
    "# simulate test set\n",
    "\n",
    "out = net.sim(X_train)\n",
    "out = np.around(out)\n",
    "\n",
    "# calculate accuracy\n",
    "\n",
    "correct = (out == y_train).all(axis = 1)\n",
    "acc = (np.sum(correct)/len(out))*100\n",
    "\n",
    "print(\"Accuracy of trained perceptron on known data is \" +str(round(acc,2)) + \"%\")"
   ]
  },
  {
   "cell_type": "code",
   "execution_count": null,
   "metadata": {},
   "outputs": [],
   "source": [
    "# simulate test set\n",
    "\n",
    "out = net.sim(X_test)\n",
    "out = np.around(out)\n",
    "\n",
    "# calculate accuracy\n",
    "\n",
    "correct = (out == y_test).all(axis = 1)\n",
    "acc = (np.sum(correct)/len(out))*100\n",
    "\n",
    "print(\"Accuracy of trained perceptron on unknown data is \" +str(round(acc,2)) + \"%\")"
   ]
  },
  {
   "cell_type": "code",
   "execution_count": null,
   "metadata": {},
   "outputs": [],
   "source": [
    "#a,b,c = \n",
    "net.layers[0].np['w'][0]\n",
    "#d   = \n",
    "net.layers[0].np['b'][\n",
    "0]"
   ]
  },
  {
   "cell_type": "code",
   "execution_count": null,
   "metadata": {},
   "outputs": [],
   "source": [
    "net.layers[0].np['w']"
   ]
  },
  {
   "cell_type": "code",
   "execution_count": null,
   "metadata": {},
   "outputs": [],
   "source": []
  }
 ],
 "metadata": {
  "kernelspec": {
   "display_name": "Python 3 (ipykernel)",
   "language": "python",
   "name": "python3"
  },
  "language_info": {
   "codemirror_mode": {
    "name": "ipython",
    "version": 3
   },
   "file_extension": ".py",
   "mimetype": "text/x-python",
   "name": "python",
   "nbconvert_exporter": "python",
   "pygments_lexer": "ipython3",
   "version": "3.9.6"
  }
 },
 "nbformat": 4,
 "nbformat_minor": 1
}
